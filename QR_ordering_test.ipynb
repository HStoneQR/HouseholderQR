{
 "cells": [
  {
   "cell_type": "markdown",
   "id": "172342b4",
   "metadata": {},
   "source": [
    "## Import necessary packages"
   ]
  },
  {
   "cell_type": "code",
   "execution_count": 1,
   "id": "de106b77",
   "metadata": {},
   "outputs": [],
   "source": [
    "import scipy\n",
    "from scipy import linalg as spla \n",
    "import numpy as np\n",
    "from scipy.sparse import csr_matrix\n",
    "import time"
   ]
  },
  {
   "cell_type": "markdown",
   "id": "f391dd55",
   "metadata": {},
   "source": [
    "## Create sparse matrix and solution"
   ]
  },
  {
   "cell_type": "code",
   "execution_count": 2,
   "id": "8c7fc727",
   "metadata": {},
   "outputs": [],
   "source": [
    "\n",
    "# n = 5000\n",
    "# M = scipy.sparse.rand( n, n, density = 0.1, random_state = 2025).tocsr()\n",
    "# M.nnz/(n*n)"
   ]
  },
  {
   "cell_type": "code",
   "execution_count": 3,
   "id": "1e904e83",
   "metadata": {},
   "outputs": [
    {
     "data": {
      "text/plain": [
       "<Compressed Sparse Row sparse matrix of dtype 'float64'\n",
       "\twith 207695 stored elements and shape (5357, 5357)>"
      ]
     },
     "execution_count": 3,
     "metadata": {},
     "output_type": "execute_result"
    }
   ],
   "source": [
    "# download your matrix in Matrix Market Format in your current folder\\data before running the cell\n",
    "# https://math.nist.gov/MatrixMarket/data/misc/cylshell/s3rmt3m3.html\n",
    "from scipy.io import mmread\n",
    "M = (mmread('data\\s3rmt3m3\\s3rmt3m3.mtx')).tocsr()\n",
    "n = M.shape[0]\n",
    "# make it dense for comparison purpose used later\n",
    "A = M.todense()\n",
    "M"
   ]
  },
  {
   "cell_type": "code",
   "execution_count": 4,
   "id": "1f565948",
   "metadata": {},
   "outputs": [],
   "source": [
    "# create solution and RHS\n",
    "x = np.array([1.0/i for i in range(1,n+1)])\n",
    "b = M @ x"
   ]
  },
  {
   "cell_type": "markdown",
   "id": "f3204ee5",
   "metadata": {},
   "source": [
    "## Check the speed of dense solver and QR decomposition from numpy / scipy"
   ]
  },
  {
   "cell_type": "code",
   "execution_count": 5,
   "id": "0b60eadb",
   "metadata": {},
   "outputs": [
    {
     "name": "stdout",
     "output_type": "stream",
     "text": [
      "882 ms ± 66.2 ms per loop (mean ± std. dev. of 7 runs, 1 loop each)\n"
     ]
    }
   ],
   "source": [
    "%timeit np.linalg.solve(A, b)"
   ]
  },
  {
   "cell_type": "code",
   "execution_count": 6,
   "id": "e52b7fba",
   "metadata": {},
   "outputs": [
    {
     "name": "stdout",
     "output_type": "stream",
     "text": [
      "1.38 s ± 123 ms per loop (mean ± std. dev. of 7 runs, 1 loop each)\n"
     ]
    }
   ],
   "source": [
    "%timeit scipy.linalg.solve(A, b)"
   ]
  },
  {
   "cell_type": "code",
   "execution_count": 7,
   "id": "2395be1c",
   "metadata": {},
   "outputs": [
    {
     "name": "stdout",
     "output_type": "stream",
     "text": [
      "7.97 s ± 297 ms per loop (mean ± std. dev. of 7 runs, 1 loop each)\n"
     ]
    }
   ],
   "source": [
    "%timeit spla.qr(A)"
   ]
  },
  {
   "cell_type": "code",
   "execution_count": 8,
   "id": "dfde48b0",
   "metadata": {},
   "outputs": [
    {
     "name": "stdout",
     "output_type": "stream",
     "text": [
      "9.99 s ± 221 ms per loop (mean ± std. dev. of 7 runs, 1 loop each)\n"
     ]
    }
   ],
   "source": [
    "%timeit np.linalg.qr(A)"
   ]
  },
  {
   "cell_type": "markdown",
   "id": "43ec8023",
   "metadata": {},
   "source": [
    "## Choose numpy linear solver and scipy QR decomposition for speed"
   ]
  },
  {
   "cell_type": "code",
   "execution_count": 9,
   "id": "51ed7638",
   "metadata": {},
   "outputs": [
    {
     "name": "stdout",
     "output_type": "stream",
     "text": [
      "1.4921899639110952e-09\n"
     ]
    }
   ],
   "source": [
    "xsol = np.linalg.solve(A, b)\n",
    "print(np.linalg.norm(xsol -x))"
   ]
  },
  {
   "cell_type": "markdown",
   "id": "c5b29056",
   "metadata": {},
   "source": [
    "#### Check matrix reordering effect on memory for QR decomposition "
   ]
  },
  {
   "cell_type": "markdown",
   "id": "166a7d01",
   "metadata": {},
   "source": [
    "##### QR without reordering"
   ]
  },
  {
   "cell_type": "code",
   "execution_count": 10,
   "id": "2e882d65",
   "metadata": {},
   "outputs": [
    {
     "name": "stdout",
     "output_type": "stream",
     "text": [
      "Time for QR without reordering:  7.816354751586914\n"
     ]
    },
    {
     "data": {
      "text/plain": [
       "(16467165, 4133099)"
      ]
     },
     "execution_count": 10,
     "metadata": {},
     "output_type": "execute_result"
    }
   ],
   "source": [
    "sttime = time.time()\n",
    "Q,R =spla.qr(A)\n",
    "endtime = time.time()\n",
    "print(\"Time for QR without reordering: \", endtime - sttime)\n",
    "\n",
    "csr_matrix(Q).nnz,csr_matrix(R).nnz"
   ]
  },
  {
   "cell_type": "code",
   "execution_count": 11,
   "id": "cb82404b",
   "metadata": {},
   "outputs": [
    {
     "name": "stdout",
     "output_type": "stream",
     "text": [
      "5.027933498591544e-09\n"
     ]
    }
   ],
   "source": [
    "xqr = spla.solve_triangular(R, Q.T @ b)\n",
    "print(np.linalg.norm(xqr -x))"
   ]
  },
  {
   "cell_type": "markdown",
   "id": "7dfb1acd",
   "metadata": {},
   "source": [
    "\n",
    "##### QR with RCM ordering"
   ]
  },
  {
   "cell_type": "code",
   "execution_count": 12,
   "id": "fd301dba",
   "metadata": {},
   "outputs": [
    {
     "name": "stdout",
     "output_type": "stream",
     "text": [
      "[   2    1    0 ... 5225 5224 5281]\n",
      "Time for reordering:  0.006025791168212891\n"
     ]
    }
   ],
   "source": [
    "sttime = time.time()\n",
    "perm = scipy.sparse.csgraph.reverse_cuthill_mckee(M, symmetric_mode=True)\n",
    "print(perm)\n",
    "I,J = np.ix_(perm,perm)\n",
    "bp = b[perm]\n",
    "Mp = M[I, J]\n",
    "t1 = time.time()\n",
    "endtime = time.time()\n",
    "time_reorder =  endtime - sttime\n",
    "print(\"Time for reordering: \", endtime - sttime)\n"
   ]
  },
  {
   "cell_type": "code",
   "execution_count": 13,
   "id": "8b39381a",
   "metadata": {},
   "outputs": [
    {
     "name": "stdout",
     "output_type": "stream",
     "text": [
      "Time for QR with reordering:  7.228511810302734\n"
     ]
    },
    {
     "data": {
      "text/plain": [
       "(14914709, 1233029)"
      ]
     },
     "execution_count": 13,
     "metadata": {},
     "output_type": "execute_result"
    }
   ],
   "source": [
    "sttime = time.time()\n",
    "Qp,Rp =spla.qr(Mp.todense())\n",
    "endtime = time.time()\n",
    "time_total = endtime - sttime + time_reorder\n",
    "print(\"Time for QR with reordering: \", time_total)\n",
    "csr_matrix(Qp).nnz,csr_matrix(Rp).nnz\n"
   ]
  },
  {
   "cell_type": "code",
   "execution_count": 14,
   "id": "898c98bb",
   "metadata": {},
   "outputs": [
    {
     "name": "stdout",
     "output_type": "stream",
     "text": [
      "6.15537933801292e-08\n"
     ]
    }
   ],
   "source": [
    "xqrp = spla.solve_triangular(Rp, Qp.T @ bp)\n",
    "\n",
    "print(np.linalg.norm(xqrp[np.argsort(perm)] -x))"
   ]
  },
  {
   "cell_type": "markdown",
   "id": "e219c200",
   "metadata": {},
   "source": [
    "### memory saving"
   ]
  },
  {
   "cell_type": "code",
   "execution_count": 15,
   "id": "a16f7780",
   "metadata": {},
   "outputs": [
    {
     "name": "stdout",
     "output_type": "stream",
     "text": [
      "Qratio:  0.9057241486315343    Rratio:  0.29833038114983457\n"
     ]
    }
   ],
   "source": [
    "\n",
    "Qratio = csr_matrix(Qp).nnz / csr_matrix(Q).nnz\n",
    "Rratio = csr_matrix(Rp).nnz / csr_matrix(R).nnz\n",
    "print(\"Qratio: \", Qratio, \"   Rratio: \", Rratio)"
   ]
  },
  {
   "cell_type": "code",
   "execution_count": null,
   "id": "63be54f3",
   "metadata": {},
   "outputs": [],
   "source": []
  }
 ],
 "metadata": {
  "kernelspec": {
   "display_name": "Python 3 (ipykernel)",
   "language": "python",
   "name": "python3"
  },
  "language_info": {
   "codemirror_mode": {
    "name": "ipython",
    "version": 3
   },
   "file_extension": ".py",
   "mimetype": "text/x-python",
   "name": "python",
   "nbconvert_exporter": "python",
   "pygments_lexer": "ipython3",
   "version": "3.11.1"
  }
 },
 "nbformat": 4,
 "nbformat_minor": 5
}
