{
 "cells": [
  {
   "cell_type": "markdown",
   "id": "d8cc9d15",
   "metadata": {},
   "source": [
    "\n",
    "In QR decomposition, A = Q @ R, the memory needed for Q is much more than that for R. So while solving A @ x = b,\n",
    "we can just do Q.T @ b during decomposition and only save R to get the solution x."
   ]
  },
  {
   "cell_type": "code",
   "execution_count": 1,
   "id": "62ed55a8",
   "metadata": {},
   "outputs": [],
   "source": [
    "from HSpackage import *\n",
    "import scipy\n",
    "import numpy as np"
   ]
  },
  {
   "cell_type": "markdown",
   "id": "f3228741",
   "metadata": {},
   "source": [
    "Create Matrix"
   ]
  },
  {
   "cell_type": "code",
   "execution_count": 2,
   "id": "00eb7e94",
   "metadata": {},
   "outputs": [],
   "source": [
    "mat_list1 = [\"HB/WEST0655\",\"HB/WEST0989\",\"HB/WEST1505\",\"HB/WEST2021\",\"Mallya/lhr01\",\"Mallya/LHR02\",\"Grund/bayer09\",\n",
    "           \"Grund/bayer10\"]\n",
    "mat_list2=[\"HB/mahindas\",\"HB/orani678\",\"HB/bp_200\",\"HB/gemat11\",\"HB/gemat12\"]\n",
    "mat_list3=[\"HB/sherman2\",\"HB/lns_3937\",\"TOKAMAK/utm5940\",\"Simon/venkat25\",\"Cylshell/s3rmt3m3\"]"
   ]
  },
  {
   "cell_type": "code",
   "execution_count": 3,
   "id": "ce1de3e5",
   "metadata": {},
   "outputs": [],
   "source": [
    "id = 3\n",
    "#mat_name = mat_list1[id]\n",
    "mat_name = mat_list3[id]"
   ]
  },
  {
   "cell_type": "code",
   "execution_count": 4,
   "id": "72cad81e",
   "metadata": {},
   "outputs": [
    {
     "name": "stdout",
     "output_type": "stream",
     "text": [
      "Simon/venkat25\n",
      "[Matrix(821, 'Simon', 'venkat25', 62424, 62424, 1717763, 'real', True, False, 1.0, 0.05539650790563141, 'subsequent computational fluid dynamics problem', 'https://sparse.tamu.edu/files/Simon/venkat25.png')]\n",
      "D:\\code\\HStoneQR\\data\\venkat25\\venkat25.mtx\n",
      "---\n",
      "(62424, 62424)\n"
     ]
    }
   ],
   "source": [
    "A,b=testcase(8,mat_name=mat_name)\n",
    "m,n = A.shape"
   ]
  },
  {
   "cell_type": "markdown",
   "id": "304501d2",
   "metadata": {},
   "source": [
    "Create test solution"
   ]
  },
  {
   "cell_type": "code",
   "execution_count": 5,
   "id": "750c30f8",
   "metadata": {},
   "outputs": [],
   "source": [
    "\n",
    "n = A.shape[0]\n",
    "x = np.array([1.0/i for i in range(1,n+1)])\n",
    "b = A @ x"
   ]
  },
  {
   "cell_type": "code",
   "execution_count": 6,
   "id": "48ea5621",
   "metadata": {},
   "outputs": [
    {
     "name": "stdout",
     "output_type": "stream",
     "text": [
      "# of singletons 0\n",
      "Time used for ordering:  0.2162480354309082\n",
      "Time used for generate R:  82.41468977928162\n",
      "nonzero in R 131115980 or about 1000.336  Mb\n",
      "Time used for triangular solver:  2.723111152648926\n",
      "\n",
      "Absolute error:  1.3314367399876832e-14\n",
      "Relative error:  3.260918513246115e-16\n"
     ]
    }
   ],
   "source": [
    "res = HStoneQR(A.tocsr(),b)\n",
    "print(\"\\nAbsolute error: \", np.linalg.norm(res[0] -x))\n",
    "print(\"Relative error: \",np.linalg.norm(b-A @ res[0])/np.linalg.norm(b))"
   ]
  },
  {
   "cell_type": "markdown",
   "id": "72e04b25",
   "metadata": {},
   "source": [
    "Numpy solver"
   ]
  },
  {
   "cell_type": "code",
   "execution_count": 7,
   "id": "25573973",
   "metadata": {},
   "outputs": [
    {
     "data": {
      "text/plain": [
       "5.283017681973588"
      ]
     },
     "execution_count": 7,
     "metadata": {},
     "output_type": "execute_result"
    }
   ],
   "source": [
    "x_np = np.linalg.solve(A.todense(), b)\n",
    "np.linalg.norm(x_np -x)"
   ]
  },
  {
   "cell_type": "markdown",
   "id": "ef8e1c41",
   "metadata": {},
   "source": [
    "Scipy solver"
   ]
  },
  {
   "cell_type": "code",
   "execution_count": 8,
   "id": "d8ae71c0",
   "metadata": {},
   "outputs": [
    {
     "ename": "MemoryError",
     "evalue": "Unable to allocate 29.0 GiB for an array with shape (62424, 62424) and data type float64",
     "output_type": "error",
     "traceback": [
      "\u001b[1;31m---------------------------------------------------------------------------\u001b[0m",
      "\u001b[1;31mMemoryError\u001b[0m                               Traceback (most recent call last)",
      "Cell \u001b[1;32mIn[8], line 1\u001b[0m\n\u001b[1;32m----> 1\u001b[0m x_sp \u001b[38;5;241m=\u001b[39m \u001b[43mscipy\u001b[49m\u001b[38;5;241;43m.\u001b[39;49m\u001b[43mlinalg\u001b[49m\u001b[38;5;241;43m.\u001b[39;49m\u001b[43msolve\u001b[49m\u001b[43m(\u001b[49m\u001b[43mA\u001b[49m\u001b[38;5;241;43m.\u001b[39;49m\u001b[43mtodense\u001b[49m\u001b[43m(\u001b[49m\u001b[43m)\u001b[49m\u001b[43m,\u001b[49m\u001b[43m \u001b[49m\u001b[43mb\u001b[49m\u001b[43m)\u001b[49m\n\u001b[0;32m      2\u001b[0m \u001b[38;5;28mprint\u001b[39m(np\u001b[38;5;241m.\u001b[39mlinalg\u001b[38;5;241m.\u001b[39mnorm(x_sp \u001b[38;5;241m-\u001b[39mx))\n",
      "File \u001b[1;32mD:\\Python\\Lib\\site-packages\\scipy\\linalg\\_basic.py:212\u001b[0m, in \u001b[0;36msolve\u001b[1;34m(a, b, lower, overwrite_a, overwrite_b, check_finite, assume_a, transposed)\u001b[0m\n\u001b[0;32m    209\u001b[0m     trans \u001b[38;5;241m=\u001b[39m \u001b[38;5;241m0\u001b[39m\n\u001b[0;32m    210\u001b[0m     norm \u001b[38;5;241m=\u001b[39m \u001b[38;5;124m'\u001b[39m\u001b[38;5;124m1\u001b[39m\u001b[38;5;124m'\u001b[39m\n\u001b[1;32m--> 212\u001b[0m anorm \u001b[38;5;241m=\u001b[39m \u001b[43mlange\u001b[49m\u001b[43m(\u001b[49m\u001b[43mnorm\u001b[49m\u001b[43m,\u001b[49m\u001b[43m \u001b[49m\u001b[43ma1\u001b[49m\u001b[43m)\u001b[49m\n\u001b[0;32m    214\u001b[0m \u001b[38;5;66;03m# Generalized case 'gesv'\u001b[39;00m\n\u001b[0;32m    215\u001b[0m \u001b[38;5;28;01mif\u001b[39;00m assume_a \u001b[38;5;241m==\u001b[39m \u001b[38;5;124m'\u001b[39m\u001b[38;5;124mgen\u001b[39m\u001b[38;5;124m'\u001b[39m:\n",
      "\u001b[1;31mMemoryError\u001b[0m: Unable to allocate 29.0 GiB for an array with shape (62424, 62424) and data type float64"
     ]
    }
   ],
   "source": [
    "\n",
    "x_sp = scipy.linalg.solve(A.todense(), b)\n",
    "print(np.linalg.norm(x_sp -x))"
   ]
  },
  {
   "cell_type": "markdown",
   "id": "23d1c2e6",
   "metadata": {},
   "source": [
    "Try scipy QR, failed with lack of memory"
   ]
  },
  {
   "cell_type": "code",
   "execution_count": 9,
   "id": "6a3a7193",
   "metadata": {},
   "outputs": [
    {
     "ename": "MemoryError",
     "evalue": "Unable to allocate 29.0 GiB for an array with shape (62424, 62424) and data type float64",
     "output_type": "error",
     "traceback": [
      "\u001b[1;31m---------------------------------------------------------------------------\u001b[0m",
      "\u001b[1;31mMemoryError\u001b[0m                               Traceback (most recent call last)",
      "Cell \u001b[1;32mIn[9], line 3\u001b[0m\n\u001b[0;32m      1\u001b[0m \u001b[38;5;28;01mfrom\u001b[39;00m \u001b[38;5;21;01mscipy\u001b[39;00m \u001b[38;5;28;01mimport\u001b[39;00m linalg \u001b[38;5;28;01mas\u001b[39;00m spla \n\u001b[0;32m      2\u001b[0m sttime \u001b[38;5;241m=\u001b[39m time\u001b[38;5;241m.\u001b[39mtime()\n\u001b[1;32m----> 3\u001b[0m Q,R \u001b[38;5;241m=\u001b[39m  spla\u001b[38;5;241m.\u001b[39mqr(\u001b[43mA\u001b[49m\u001b[38;5;241;43m.\u001b[39;49m\u001b[43mtodense\u001b[49m\u001b[43m(\u001b[49m\u001b[43m)\u001b[49m)\n\u001b[0;32m      4\u001b[0m endtime \u001b[38;5;241m=\u001b[39m time\u001b[38;5;241m.\u001b[39mtime()\n\u001b[0;32m      5\u001b[0m \u001b[38;5;28mprint\u001b[39m(\u001b[38;5;124m\"\u001b[39m\u001b[38;5;124mTime for QR without reordering: \u001b[39m\u001b[38;5;124m\"\u001b[39m, endtime \u001b[38;5;241m-\u001b[39m sttime)\n",
      "File \u001b[1;32mD:\\Python\\Lib\\site-packages\\scipy\\sparse\\_base.py:933\u001b[0m, in \u001b[0;36m_spbase.todense\u001b[1;34m(self, order, out)\u001b[0m\n\u001b[0;32m    903\u001b[0m \u001b[38;5;28;01mdef\u001b[39;00m \u001b[38;5;21mtodense\u001b[39m(\u001b[38;5;28mself\u001b[39m, order\u001b[38;5;241m=\u001b[39m\u001b[38;5;28;01mNone\u001b[39;00m, out\u001b[38;5;241m=\u001b[39m\u001b[38;5;28;01mNone\u001b[39;00m):\n\u001b[0;32m    904\u001b[0m     \u001b[38;5;124;03m\"\"\"\u001b[39;00m\n\u001b[0;32m    905\u001b[0m \u001b[38;5;124;03m    Return a dense representation of this sparse array/matrix.\u001b[39;00m\n\u001b[0;32m    906\u001b[0m \n\u001b[1;32m   (...)\u001b[0m\n\u001b[0;32m    931\u001b[0m \u001b[38;5;124;03m        `numpy.matrix` object that shares the same memory.\u001b[39;00m\n\u001b[0;32m    932\u001b[0m \u001b[38;5;124;03m    \"\"\"\u001b[39;00m\n\u001b[1;32m--> 933\u001b[0m     \u001b[38;5;28;01mreturn\u001b[39;00m \u001b[38;5;28mself\u001b[39m\u001b[38;5;241m.\u001b[39m_ascontainer(\u001b[38;5;28;43mself\u001b[39;49m\u001b[38;5;241;43m.\u001b[39;49m\u001b[43mtoarray\u001b[49m\u001b[43m(\u001b[49m\u001b[43morder\u001b[49m\u001b[38;5;241;43m=\u001b[39;49m\u001b[43morder\u001b[49m\u001b[43m,\u001b[49m\u001b[43m \u001b[49m\u001b[43mout\u001b[49m\u001b[38;5;241;43m=\u001b[39;49m\u001b[43mout\u001b[49m\u001b[43m)\u001b[49m)\n",
      "File \u001b[1;32mD:\\Python\\Lib\\site-packages\\scipy\\sparse\\_coo.py:269\u001b[0m, in \u001b[0;36m_coo_base.toarray\u001b[1;34m(self, order, out)\u001b[0m\n\u001b[0;32m    268\u001b[0m \u001b[38;5;28;01mdef\u001b[39;00m \u001b[38;5;21mtoarray\u001b[39m(\u001b[38;5;28mself\u001b[39m, order\u001b[38;5;241m=\u001b[39m\u001b[38;5;28;01mNone\u001b[39;00m, out\u001b[38;5;241m=\u001b[39m\u001b[38;5;28;01mNone\u001b[39;00m):\n\u001b[1;32m--> 269\u001b[0m     B \u001b[38;5;241m=\u001b[39m \u001b[38;5;28;43mself\u001b[39;49m\u001b[38;5;241;43m.\u001b[39;49m\u001b[43m_process_toarray_args\u001b[49m\u001b[43m(\u001b[49m\u001b[43morder\u001b[49m\u001b[43m,\u001b[49m\u001b[43m \u001b[49m\u001b[43mout\u001b[49m\u001b[43m)\u001b[49m\n\u001b[0;32m    270\u001b[0m     fortran \u001b[38;5;241m=\u001b[39m \u001b[38;5;28mint\u001b[39m(B\u001b[38;5;241m.\u001b[39mflags\u001b[38;5;241m.\u001b[39mf_contiguous)\n\u001b[0;32m    271\u001b[0m     \u001b[38;5;28;01mif\u001b[39;00m \u001b[38;5;129;01mnot\u001b[39;00m fortran \u001b[38;5;129;01mand\u001b[39;00m \u001b[38;5;129;01mnot\u001b[39;00m B\u001b[38;5;241m.\u001b[39mflags\u001b[38;5;241m.\u001b[39mc_contiguous:\n",
      "File \u001b[1;32mD:\\Python\\Lib\\site-packages\\scipy\\sparse\\_base.py:1301\u001b[0m, in \u001b[0;36m_spbase._process_toarray_args\u001b[1;34m(self, order, out)\u001b[0m\n\u001b[0;32m   1299\u001b[0m     \u001b[38;5;28;01mreturn\u001b[39;00m out\n\u001b[0;32m   1300\u001b[0m \u001b[38;5;28;01melse\u001b[39;00m:\n\u001b[1;32m-> 1301\u001b[0m     \u001b[38;5;28;01mreturn\u001b[39;00m np\u001b[38;5;241m.\u001b[39mzeros(\u001b[38;5;28mself\u001b[39m\u001b[38;5;241m.\u001b[39mshape, dtype\u001b[38;5;241m=\u001b[39m\u001b[38;5;28mself\u001b[39m\u001b[38;5;241m.\u001b[39mdtype, order\u001b[38;5;241m=\u001b[39morder)\n",
      "\u001b[1;31mMemoryError\u001b[0m: Unable to allocate 29.0 GiB for an array with shape (62424, 62424) and data type float64"
     ]
    }
   ],
   "source": [
    "from scipy import linalg as spla \n",
    "sttime = time.time()\n",
    "Q,R =  spla.qr(A.todense())\n",
    "endtime = time.time()\n",
    "print(\"Time for QR without reordering: \", endtime - sttime)"
   ]
  },
  {
   "cell_type": "code",
   "execution_count": null,
   "id": "3eabe885",
   "metadata": {},
   "outputs": [],
   "source": [
    "# xqr = spla.solve_triangular(R, Q.T @ b)\n",
    "# print(np.linalg.norm(xqr -x))"
   ]
  },
  {
   "cell_type": "markdown",
   "id": "7db0ffc2",
   "metadata": {},
   "source": [
    "Run a few tests for HStoneQR solver:"
   ]
  },
  {
   "cell_type": "code",
   "execution_count": 10,
   "id": "1d6a0427",
   "metadata": {},
   "outputs": [
    {
     "name": "stdout",
     "output_type": "stream",
     "text": [
      "HB/sherman2\n",
      "[Matrix(243, 'HB', 'sherman2', 1080, 1080, 23094, 'real', True, False, 0.6708458253838466, 0.004905968928863451, 'computational fluid dynamics problem', 'https://sparse.tamu.edu/files/HB/sherman2.png')]\n",
      "D:\\code\\HStoneQR\\data\\sherman2\\sherman2.mtx\n",
      "---\n",
      "(1080, 1080)\n",
      "# of singletons 30\n",
      "Time used for ordering:  0.12178778648376465\n",
      "Time used for generate R:  0.4058339595794678\n",
      "nonzero in R 246034 or about 1.877  Mb\n",
      "Time used for triangular solver:  0.08003830909729004\n",
      "-----------------------------------------------\n",
      "*** Time for  HB/sherman2 :  0.6271231174468994\n",
      "\n",
      " Absolute error:  1.3025611829695551e-12\n",
      "Relative error:  8.067021197700496e-16\n",
      "\n",
      "\n",
      "HB/lns_3937\n",
      "[Matrix(189, 'HB', 'lns_3937', 3937, 3937, 25407, 'real', True, False, 0.849666726715907, 0.001351107908484958, 'computational fluid dynamics problem', 'https://sparse.tamu.edu/files/HB/lns_3937.png'), Matrix(191, 'HB', 'lnsp3937', 3937, 3937, 25407, 'real', True, False, 0.849666726715907, 0.001351107908484958, 'computational fluid dynamics problem', 'https://sparse.tamu.edu/files/HB/lnsp3937.png')]\n",
      "D:\\code\\HStoneQR\\data\\lns_3937\\lns_3937.mtx\n",
      "---\n",
      "(3937, 3937)\n",
      "# of singletons 44\n",
      "Time used for ordering:  0.007997512817382812\n",
      "Time used for generate R:  0.7497782707214355\n",
      "nonzero in R 1845579 or about 14.081  Mb\n",
      "Time used for triangular solver:  0.038507938385009766\n",
      "-----------------------------------------------\n",
      "*** Time for  HB/lns_3937 :  0.7982852458953857\n",
      "\n",
      " Absolute error:  1.1306627828009131e-12\n",
      "Relative error:  4.7415976806369074e-14\n",
      "\n",
      "\n",
      "TOKAMAK/utm5940\n",
      "[Matrix(826, 'TOKAMAK', 'utm5940', 5940, 5940, 83842, 'real', True, False, 0.5290493183743677, 0.0, 'electromagnetics problem', 'https://sparse.tamu.edu/files/TOKAMAK/utm5940.png')]\n",
      "D:\\code\\HStoneQR\\data\\utm5940\\utm5940.mtx\n",
      "---\n",
      "(5940, 5940)\n",
      "# of singletons 128\n",
      "Time used for ordering:  0.013999700546264648\n",
      "Time used for generate R:  0.7479991912841797\n",
      "nonzero in R 1699076 or about 12.963  Mb\n",
      "Time used for triangular solver:  0.03503227233886719\n",
      "-----------------------------------------------\n",
      "*** Time for  TOKAMAK/utm5940 :  0.8000338077545166\n",
      "\n",
      " Absolute error:  2.3254972235957e-09\n",
      "Relative error:  1.5508085085660462e-16\n",
      "\n",
      "\n",
      "Simon/venkat25\n",
      "[Matrix(821, 'Simon', 'venkat25', 62424, 62424, 1717763, 'real', True, False, 1.0, 0.05539650790563141, 'subsequent computational fluid dynamics problem', 'https://sparse.tamu.edu/files/Simon/venkat25.png')]\n",
      "D:\\code\\HStoneQR\\data\\venkat25\\venkat25.mtx\n",
      "---\n",
      "(62424, 62424)\n",
      "# of singletons 0\n",
      "Time used for ordering:  0.21519207954406738\n",
      "Time used for generate R:  82.6759831905365\n",
      "nonzero in R 131115980 or about 1000.336  Mb\n",
      "Time used for triangular solver:  3.981783866882324\n",
      "-----------------------------------------------\n",
      "*** Time for  Simon/venkat25 :  86.96257424354553\n",
      "\n",
      " Absolute error:  1.3314367399876832e-14\n",
      "Relative error:  3.260918513246115e-16\n",
      "\n",
      "\n",
      "Cylshell/s3rmt3m3\n",
      "[Matrix(1611, 'Cylshell', 's3rmt3m3', 5357, 5357, 207123, 'real', True, True, 1.0, 1.0, 'structural problem', 'https://sparse.tamu.edu/files/Cylshell/s3rmt3m3.png')]\n",
      "D:\\code\\HStoneQR\\data\\s3rmt3m3\\s3rmt3m3.mtx\n",
      "---\n",
      "(5357, 5357)\n",
      "# of singletons 0\n",
      "Time used for ordering:  0.029004573822021484\n",
      "Time used for generate R:  0.8065788745880127\n",
      "nonzero in R 1919141 or about 14.642  Mb\n",
      "Time used for triangular solver:  0.0400395393371582\n",
      "-----------------------------------------------\n",
      "*** Time for  Cylshell/s3rmt3m3 :  0.8805849552154541\n",
      "\n",
      " Absolute error:  1.5834268838560342e-08\n",
      "Relative error:  9.57238419156074e-16\n",
      "\n",
      "\n"
     ]
    }
   ],
   "source": [
    "for mat_name in mat_list3:\n",
    "    A,b=testcase(8,mat_name=mat_name)\n",
    "    m,n = A.shape\n",
    "    \n",
    "    x = np.array([1.0/i for i in range(1,n+1)])\n",
    "    b = A @ x\n",
    "    sttime = time.time()\n",
    "    res = HStoneQR(A.tocsr(),b)\n",
    "    endtime = time.time()\n",
    "    print(\"-----------------------------------------------\")\n",
    "    print(\"*** Time for \", mat_name, \": \", endtime - sttime)\n",
    "    print(\"\\n Absolute error: \", np.linalg.norm(res[0] -x))\n",
    "    print(\"Relative error: \",np.linalg.norm(b-A @ res[0])/np.linalg.norm(b))\n",
    "    print(\"\\n\")\n",
    "    "
   ]
  },
  {
   "cell_type": "code",
   "execution_count": null,
   "id": "1f7dca1a",
   "metadata": {},
   "outputs": [],
   "source": []
  }
 ],
 "metadata": {
  "kernelspec": {
   "display_name": "Python 3 (ipykernel)",
   "language": "python",
   "name": "python3"
  },
  "language_info": {
   "codemirror_mode": {
    "name": "ipython",
    "version": 3
   },
   "file_extension": ".py",
   "mimetype": "text/x-python",
   "name": "python",
   "nbconvert_exporter": "python",
   "pygments_lexer": "ipython3",
   "version": "3.11.1"
  }
 },
 "nbformat": 4,
 "nbformat_minor": 5
}
